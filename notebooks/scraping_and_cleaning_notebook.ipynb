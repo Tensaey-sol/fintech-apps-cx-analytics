{
 "cells": [
  {
   "cell_type": "markdown",
   "id": "91471064",
   "metadata": {},
   "source": [
    "## Introduction\n",
    "This notebook collects and cleans customer reviews for three major Ethiopian banks' mobile apps using Google Play Store data. The steps include:\n",
    "\n",
    "- Scraping app reviews using google-play-scraper.\n",
    "- Preprocessing and cleaning the data (removing duplicates, missing values, and normalizing dates).\n",
    "- Saving cleaned datasets as separate CSV files (one per bank).\n",
    "- Validating the datasets to ensure quality.\n",
    "\n",
    "This is part of a consulting simulation to assess customer satisfaction and improve mobile banking experiences.\n",
    "\n",
    "---"
   ]
  },
  {
   "cell_type": "markdown",
   "id": "052095a5",
   "metadata": {},
   "source": [
    "### Set Up Python Path\n",
    "Add the project root directory to the Python path so that we can import local modules from the `scripts/` folder."
   ]
  },
  {
   "cell_type": "code",
   "execution_count": 1,
   "id": "7ff21976",
   "metadata": {},
   "outputs": [],
   "source": [
    "import sys, os\n",
    "sys.path.insert(0, os.path.abspath('..'))"
   ]
  },
  {
   "cell_type": "markdown",
   "id": "4f1f8a25",
   "metadata": {},
   "source": [
    "### Import Required Modules\n",
    "We import all custom functions and external libraries needed for scraping, cleaning, and validating the app reviews."
   ]
  },
  {
   "cell_type": "code",
   "execution_count": 2,
   "id": "2e7c5a0b",
   "metadata": {},
   "outputs": [],
   "source": [
    "from scripts.scraper import scrape_reviews\n",
    "from scripts.preprocessing import clean_reviews\n",
    "from scripts.validation import load_and_validate_reviews\n",
    "\n",
    "from tqdm import tqdm"
   ]
  },
  {
   "cell_type": "markdown",
   "id": "ad500064",
   "metadata": {},
   "source": [
    "### Define Target Apps and Output Directory\n",
    "We define the Google Play app IDs and corresponding bank names, and ensure that the output directory for cleaned CSV files exists."
   ]
  },
  {
   "cell_type": "code",
   "execution_count": 3,
   "id": "7041f9e6",
   "metadata": {},
   "outputs": [],
   "source": [
    "# App IDs and Names\n",
    "apps = {\n",
    "    \"com.combanketh.mobilebanking\": \"Commercial Bank of Ethiopia\",\n",
    "    \"com.boa.boaMobileBanking\": \"Bank of Abyssinia\",\n",
    "    \"com.dashen.dashensuperapp\": \"Dashen Bank\"\n",
    "}\n",
    "\n",
    "# Directory to save cleaned CSVs\n",
    "output_dir = \"../data/\"\n",
    "os.makedirs(output_dir, exist_ok=True)"
   ]
  },
  {
   "cell_type": "markdown",
   "id": "d86c6d68",
   "metadata": {},
   "source": [
    "### Scrape and Clean Reviews\n",
    "For each bank app:\n",
    "- Scrape 500+ reviews using the Google Play scraper.\n",
    "- Clean the data (remove duplicates, handle missing values, normalize date format).\n",
    "- Save results to a separate CSV per bank."
   ]
  },
  {
   "cell_type": "code",
   "execution_count": 4,
   "id": "b706b1b0",
   "metadata": {},
   "outputs": [
    {
     "name": "stderr",
     "output_type": "stream",
     "text": [
      " 33%|███▎      | 1/3 [00:01<00:02,  1.05s/it]"
     ]
    },
    {
     "name": "stdout",
     "output_type": "stream",
     "text": [
      "✅ Saved cleaned reviews for Commercial Bank of Ethiopia → ../data/commercial_bank_of_ethiopia_reviews.csv\n"
     ]
    },
    {
     "name": "stderr",
     "output_type": "stream",
     "text": [
      " 67%|██████▋   | 2/3 [00:02<00:01,  1.10s/it]"
     ]
    },
    {
     "name": "stdout",
     "output_type": "stream",
     "text": [
      "✅ Saved cleaned reviews for Bank of Abyssinia → ../data/bank_of_abyssinia_reviews.csv\n"
     ]
    },
    {
     "name": "stderr",
     "output_type": "stream",
     "text": [
      "100%|██████████| 3/3 [00:03<00:00,  1.11s/it]"
     ]
    },
    {
     "name": "stdout",
     "output_type": "stream",
     "text": [
      "✅ Saved cleaned reviews for Dashen Bank → ../data/dashen_bank_reviews.csv\n"
     ]
    },
    {
     "name": "stderr",
     "output_type": "stream",
     "text": [
      "\n"
     ]
    }
   ],
   "source": [
    "# Loop over each app and process individually\n",
    "for app_id, bank_name in tqdm(apps.items()):\n",
    "    raw_reviews = scrape_reviews(app_id, bank_name, count=500)\n",
    "    cleaned_df = clean_reviews(raw_reviews)\n",
    "\n",
    "    # Sanitize filename\n",
    "    bank_filename = bank_name.lower().replace(\" \", \"_\").replace(\".\", \"\")\n",
    "    output_path = os.path.join(output_dir, f\"{bank_filename}_reviews.csv\")\n",
    "\n",
    "    cleaned_df.to_csv(output_path, index=False)\n",
    "    print(f\"✅ Saved cleaned reviews for {bank_name} → {output_path}\")"
   ]
  },
  {
   "cell_type": "markdown",
   "id": "928ae471",
   "metadata": {},
   "source": [
    "--- "
   ]
  },
  {
   "cell_type": "markdown",
   "id": "8ee16b05",
   "metadata": {},
   "source": [
    "### Validate Scraped Review Data\n",
    "We validate the output to ensure:\n",
    "- Total number of reviews ≥ 1,200.\n",
    "- Each file has <5% missing values.\n",
    "- All date formats are in YYYY-MM-DD.\n",
    "- No duplicate entries."
   ]
  },
  {
   "cell_type": "code",
   "execution_count": 5,
   "id": "69244e63",
   "metadata": {},
   "outputs": [],
   "source": [
    "# Load the data\n",
    "results = load_and_validate_reviews(output_dir)\n",
    "\n",
    "# Extract results\n",
    "combined_df = results['combined_df']\n",
    "summary_df = results['summary_df']\n",
    "missing_files = results['missing_files']\n",
    "metrics = results['metrics']"
   ]
  },
  {
   "cell_type": "markdown",
   "id": "6584c5c5",
   "metadata": {},
   "source": [
    "### File Presence Check\n",
    "Ensure all expected bank files were saved."
   ]
  },
  {
   "cell_type": "code",
   "execution_count": 6,
   "id": "0708a5e3",
   "metadata": {},
   "outputs": [
    {
     "name": "stdout",
     "output_type": "stream",
     "text": [
      "\n",
      "✅ All expected bank files found\n"
     ]
    }
   ],
   "source": [
    "# File status\n",
    "if missing_files:\n",
    "    print(f\"\\n⚠️ Missing files: {', '.join(missing_files)}\")\n",
    "else:\n",
    "    print(\"\\n✅ All expected bank files found\")"
   ]
  },
  {
   "cell_type": "markdown",
   "id": "55347db8",
   "metadata": {},
   "source": [
    "--- "
   ]
  },
  {
   "cell_type": "markdown",
   "id": "cca3a1c1",
   "metadata": {},
   "source": [
    "### Summary of Cleaned Data\n",
    "Display a breakdown of:\n",
    "- Review counts per bank\n",
    "- Missing value percentages\n",
    "- Duplicate counts\n",
    "- Date format correctness"
   ]
  },
  {
   "cell_type": "code",
   "execution_count": 7,
   "id": "0351e4b6",
   "metadata": {},
   "outputs": [
    {
     "name": "stdout",
     "output_type": "stream",
     "text": [
      "\n",
      "📊 Total reviews collected: 1432\n",
      "\n",
      "🔍 Per Bank Summary:\n"
     ]
    },
    {
     "data": {
      "text/html": [
       "<style type=\"text/css\">\n",
       "</style>\n",
       "<table id=\"T_ade47\">\n",
       "  <thead>\n",
       "    <tr>\n",
       "      <th class=\"blank level0\" >&nbsp;</th>\n",
       "      <th id=\"T_ade47_level0_col0\" class=\"col_heading level0 col0\" >bank</th>\n",
       "      <th id=\"T_ade47_level0_col1\" class=\"col_heading level0 col1\" >file</th>\n",
       "      <th id=\"T_ade47_level0_col2\" class=\"col_heading level0 col2\" >reviews</th>\n",
       "      <th id=\"T_ade47_level0_col3\" class=\"col_heading level0 col3\" >missing_values</th>\n",
       "      <th id=\"T_ade47_level0_col4\" class=\"col_heading level0 col4\" >missing_%</th>\n",
       "      <th id=\"T_ade47_level0_col5\" class=\"col_heading level0 col5\" >duplicates</th>\n",
       "      <th id=\"T_ade47_level0_col6\" class=\"col_heading level0 col6\" >date_format_OK</th>\n",
       "    </tr>\n",
       "  </thead>\n",
       "  <tbody>\n",
       "    <tr>\n",
       "      <th id=\"T_ade47_level0_row0\" class=\"row_heading level0 row0\" >0</th>\n",
       "      <td id=\"T_ade47_row0_col0\" class=\"data row0 col0\" >Commercial Bank Of Ethiopia</td>\n",
       "      <td id=\"T_ade47_row0_col1\" class=\"data row0 col1\" >commercial_bank_of_ethiopia_reviews.csv</td>\n",
       "      <td id=\"T_ade47_row0_col2\" class=\"data row0 col2\" >484</td>\n",
       "      <td id=\"T_ade47_row0_col3\" class=\"data row0 col3\" >0</td>\n",
       "      <td id=\"T_ade47_row0_col4\" class=\"data row0 col4\" >0.00%</td>\n",
       "      <td id=\"T_ade47_row0_col5\" class=\"data row0 col5\" >0</td>\n",
       "      <td id=\"T_ade47_row0_col6\" class=\"data row0 col6\" >True</td>\n",
       "    </tr>\n",
       "    <tr>\n",
       "      <th id=\"T_ade47_level0_row1\" class=\"row_heading level0 row1\" >1</th>\n",
       "      <td id=\"T_ade47_row1_col0\" class=\"data row1 col0\" >Bank Of Abyssinia</td>\n",
       "      <td id=\"T_ade47_row1_col1\" class=\"data row1 col1\" >bank_of_abyssinia_reviews.csv</td>\n",
       "      <td id=\"T_ade47_row1_col2\" class=\"data row1 col2\" >499</td>\n",
       "      <td id=\"T_ade47_row1_col3\" class=\"data row1 col3\" >0</td>\n",
       "      <td id=\"T_ade47_row1_col4\" class=\"data row1 col4\" >0.00%</td>\n",
       "      <td id=\"T_ade47_row1_col5\" class=\"data row1 col5\" >0</td>\n",
       "      <td id=\"T_ade47_row1_col6\" class=\"data row1 col6\" >True</td>\n",
       "    </tr>\n",
       "    <tr>\n",
       "      <th id=\"T_ade47_level0_row2\" class=\"row_heading level0 row2\" >2</th>\n",
       "      <td id=\"T_ade47_row2_col0\" class=\"data row2 col0\" >Dashen Bank</td>\n",
       "      <td id=\"T_ade47_row2_col1\" class=\"data row2 col1\" >dashen_bank_reviews.csv</td>\n",
       "      <td id=\"T_ade47_row2_col2\" class=\"data row2 col2\" >449</td>\n",
       "      <td id=\"T_ade47_row2_col3\" class=\"data row2 col3\" >0</td>\n",
       "      <td id=\"T_ade47_row2_col4\" class=\"data row2 col4\" >0.00%</td>\n",
       "      <td id=\"T_ade47_row2_col5\" class=\"data row2 col5\" >0</td>\n",
       "      <td id=\"T_ade47_row2_col6\" class=\"data row2 col6\" >True</td>\n",
       "    </tr>\n",
       "  </tbody>\n",
       "</table>\n"
      ],
      "text/plain": [
       "<pandas.io.formats.style.Styler at 0x1ee9a028d70>"
      ]
     },
     "metadata": {},
     "output_type": "display_data"
    }
   ],
   "source": [
    "# Data summary\n",
    "if not combined_df.empty:\n",
    "    print(f\"\\n📊 Total reviews collected: {metrics['total_reviews']}\")\n",
    "    \n",
    "    print(\"\\n🔍 Per Bank Summary:\")\n",
    "    display(summary_df.style.format({\n",
    "        'missing_%': '{:.2f}%',\n",
    "        'reviews': '{:,}'\n",
    "    }))\n",
    "\n",
    "else:\n",
    "    print(\"\\n❌ No data available - all files missing or empty\")"
   ]
  },
  {
   "cell_type": "markdown",
   "id": "45629cb8",
   "metadata": {},
   "source": [
    "--- "
   ]
  },
  {
   "cell_type": "markdown",
   "id": "83285e73",
   "metadata": {},
   "source": [
    "### Summary and Next step\n",
    "\n",
    "- 3 separate datasets created for CBE, BOA, and Dashen.\n",
    "- Each cleaned and saved to ../data/.\n",
    "- Data validated to meet the minimum 1,200 reviews and <5% missing threshold.\n",
    "\n",
    "Next step: Proceed to sentiment analysis and thematic extraction in the next notebook."
   ]
  }
 ],
 "metadata": {
  "kernelspec": {
   "display_name": ".venv",
   "language": "python",
   "name": "python3"
  },
  "language_info": {
   "codemirror_mode": {
    "name": "ipython",
    "version": 3
   },
   "file_extension": ".py",
   "mimetype": "text/x-python",
   "name": "python",
   "nbconvert_exporter": "python",
   "pygments_lexer": "ipython3",
   "version": "3.13.1"
  }
 },
 "nbformat": 4,
 "nbformat_minor": 5
}
