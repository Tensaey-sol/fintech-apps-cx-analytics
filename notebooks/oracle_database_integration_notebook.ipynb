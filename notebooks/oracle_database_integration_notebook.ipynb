{
 "cells": [
  {
   "cell_type": "markdown",
   "id": "d22a7ccc",
   "metadata": {},
   "source": [
    "## Introduction\n",
    "\n",
    "This notebook demonstrates the final phase of a data engineering pipeline for storing cleaned and processed Google Play review data in an Oracle XE database. The pipeline connects to an Oracle database, inserts cleaned review data from CSV files, validates the inserted data by querying row counts, and generates an SQL dump for version control on GitHub. This workflow simulates real-world enterprise data engineering practices, particularly in banking environments where Oracle databases are prevalent.\n",
    "\n",
    "---"
   ]
  },
  {
   "cell_type": "markdown",
   "id": "476d199f",
   "metadata": {},
   "source": [
    "### Setup Environment\n",
    "\n",
    "The following code sets up the Python environment by adding parent directory to path for script imports and importing required libraries along with custom scripts that handle data insertion and SQL dump generation. This setup ensures modularity, security, and compatibility with the project structure, enabling seamless execution of database operations."
   ]
  },
  {
   "cell_type": "code",
   "execution_count": null,
   "id": "cf83cd25",
   "metadata": {},
   "outputs": [],
   "source": [
    "import sys, os\n",
    "sys.path.insert(0, os.path.abspath('..')) \n",
    "\n",
    "from dotenv import load_dotenv\n",
    "import oracledb\n",
    "from scripts.db_insert import insert_reviews_into_oracle\n",
    "from scripts.sql_dumper import generate_sql_dump"
   ]
  },
  {
   "cell_type": "markdown",
   "id": "abb859a4",
   "metadata": {},
   "source": [
    "### Load Database Credentials\n",
    "\n",
    "Credentials are loaded from a `.env` file to establish a connection to the Oracle XE database. This approach prevents exposing sensitive information in the notebook or version-controlled files."
   ]
  },
  {
   "cell_type": "code",
   "execution_count": 2,
   "id": "0af1a91d",
   "metadata": {},
   "outputs": [],
   "source": [
    "load_dotenv()\n",
    "user = os.getenv(\"ORACLE_USER\")\n",
    "password = os.getenv(\"ORACLE_PASSWORD\")\n",
    "dsn = os.getenv(\"ORACLE_DSN\")"
   ]
  },
  {
   "cell_type": "markdown",
   "id": "f170f8af",
   "metadata": {},
   "source": [
    "### Insert Reviews into Oracle Database\n",
    "\n",
    "The `insert_reviews_into_oracle` function from `db_insert.py` loads cleaned review data from CSV files in the `../data` directory, inserts it into the `banks` and `reviews` tables, and commits the transaction. The database schema was defined as:\n",
    "\n",
    "- **Banks Table**:\n",
    "  - `bank_id`: Auto-incrementing primary key.\n",
    "  - `bank_name`: Unique name of the bank (e.g., \"CBE\").\n",
    "- **Reviews Table**:\n",
    "  - `review_id`: Auto-incrementing primary key.\n",
    "  - `bank_id`: Foreign key referencing `banks(bank_id)`.\n",
    "  - `review_text`: Review content (CLOB).\n",
    "  - `rating`: User rating (1–5).\n",
    "  - `review_date`: Date of the review.\n",
    "  - `source`: Review source (e.g., \"Google Play\").\n",
    "  - `sentiment_label`: Sentiment classification (positive, negative, neutral).\n",
    "  - `sentiment_score`: Sentiment score from VADER.\n",
    "  - `keywords`: Extracted keywords (CLOB).\n",
    "  - `themes`: Identified themes (CLOB)."
   ]
  },
  {
   "cell_type": "code",
   "execution_count": 3,
   "id": "8547ceee",
   "metadata": {},
   "outputs": [
    {
     "name": "stdout",
     "output_type": "stream",
     "text": [
      "✅ All reviews and bank data inserted into Oracle successfully.\n"
     ]
    }
   ],
   "source": [
    "insert_reviews_into_oracle(user, password, dsn)"
   ]
  },
  {
   "cell_type": "markdown",
   "id": "3931abde",
   "metadata": {},
   "source": [
    "### Validate Data Insertion\n",
    "\n",
    "To verify the success of the data insertion we query the row counts for the `banks` and `reviews` tables.\n",
    "  - Establishes a new database connection to query the number of rows in each table.\n",
    "  - Uses `SELECT COUNT(*)` to count rows in `banks` and `reviews`.\n",
    "  - Closes the cursor and connection to free resources.\n",
    "  - Prints the row counts for validation.\n",
    "  \n",
    "**Why**: This step ensures the database is correctly populated before generating the SQL dump."
   ]
  },
  {
   "cell_type": "code",
   "execution_count": 4,
   "id": "5676ae9c",
   "metadata": {},
   "outputs": [
    {
     "name": "stdout",
     "output_type": "stream",
     "text": [
      "\n",
      "Banks table: 3 rows\n",
      "Reviews table: 1432 rows\n"
     ]
    }
   ],
   "source": [
    "conn = oracledb.connect(user=user, password=password, dsn=dsn, mode=oracledb.SYSDBA)\n",
    "cursor = conn.cursor()\n",
    "\n",
    "cursor.execute(\"SELECT COUNT(*) FROM banks\")\n",
    "bank_count = cursor.fetchone()[0]\n",
    "\n",
    "cursor.execute(\"SELECT COUNT(*) FROM reviews\")\n",
    "review_count = cursor.fetchone()[0]\n",
    "\n",
    "cursor.close()\n",
    "conn.close()\n",
    "\n",
    "print(f\"\\nBanks table: {bank_count} rows\")\n",
    "print(f\"Reviews table: {review_count} rows\")"
   ]
  },
  {
   "cell_type": "markdown",
   "id": "939ccc0f",
   "metadata": {},
   "source": [
    "**Results**:\n",
    "  - **Banks table (3 rows)**: Indicates three unique banks were inserted, consistent with processing multiple bank-specific CSV files.\n",
    "  - **Reviews table (1432 rows)**: Exceeds >1,000 entries, confirming the pipeline successfully stored a substantial dataset.\n",
    "\n",
    "---"
   ]
  },
  {
   "cell_type": "markdown",
   "id": "1a0208ad",
   "metadata": {},
   "source": [
    "### Generate SQL Dump for GitHub\n",
    "\n",
    "To ensure reproducibility the `generate_sql_dump` function from `generate_sql_dump.py` creates a `.sql` file containing the table schema (DDL) and data (INSERT statements).\n",
    "- Connects to the Oracle database to extract the schema for `banks` and `reviews` using `DBMS_METADATA.GET_DDL`.\n",
    "  - Queries all rows from both tables to generate `INSERT` statements.\n",
    "  - Handles `CLOB` columns (`review_text`, `keywords`, `themes`) by converting `LOB` objects to strings.\n",
    "  - Writes the DDL and INSERT statements to `../SQL_dump/database_dump1.sql`, creating the `SQL_dump` directory if needed.\n",
    "\n",
    "**Why**: The SQL dump allows the database state to be version-controlled on GitHub, enabling team collaboration and reproducibility. It captures the exact schema and data for future reference or deployment.\n",
    "\n",
    "**Details**:\n",
    "  - The schema includes table definitions, primary keys, foreign keys, and column types (e.g., `CLOB`, `DATE`).\n",
    "  - Data is exported with proper escaping (e.g., single quotes in text fields) and formatting (e.g., `TO_DATE` for dates).\n",
    "  - The output file is saved in a dedicated `SQL_dump` directory for organization."
   ]
  },
  {
   "cell_type": "code",
   "execution_count": null,
   "id": "b3b1164d",
   "metadata": {},
   "outputs": [
    {
     "name": "stdout",
     "output_type": "stream",
     "text": [
      "✅ SQL dump written to ../SQL dump/database_dump.sql\n"
     ]
    }
   ],
   "source": [
    "generate_sql_dump(user, password, dsn)"
   ]
  },
  {
   "cell_type": "markdown",
   "id": "01f63cef",
   "metadata": {},
   "source": [
    "---\n",
    "\n",
    "## Conclusion\n",
    "\n",
    "This notebook successfully completes the task of storing cleaned Google Play review data in an Oracle XE database. Key achievements include:\n",
    "- Establishing a robust connection to Oracle XE using `oracledb`.\n",
    "- Inserting 3 banks and 1,432 reviews.\n",
    "- Validating the data insertion with row count queries.\n",
    "- Generating an SQL dump (`../SQL_dump/database_dump.sql`) for version control on GitHub.\n",
    "\n",
    "The pipeline demonstrates enterprise-grade data engineering practices, including secure credential management, modular scripting, and data validation."
   ]
  }
 ],
 "metadata": {
  "kernelspec": {
   "display_name": ".venv",
   "language": "python",
   "name": "python3"
  },
  "language_info": {
   "codemirror_mode": {
    "name": "ipython",
    "version": 3
   },
   "file_extension": ".py",
   "mimetype": "text/x-python",
   "name": "python",
   "nbconvert_exporter": "python",
   "pygments_lexer": "ipython3",
   "version": "3.13.1"
  }
 },
 "nbformat": 4,
 "nbformat_minor": 5
}
